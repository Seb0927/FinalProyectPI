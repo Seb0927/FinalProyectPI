{
 "cells": [
  {
   "cell_type": "markdown",
   "metadata": {
    "id": "Eu6MRusrqYMk"
   },
   "source": [
    "# Paralelización del Juego de la vida de Conway por medio de Python utilizando ipyparallel\n",
    "\n",
    "Desarrollado por:\n",
    "- Sebastián Idrobo Avirama (2122637)\n",
    "- XXXX (XXXX)\n",
    "- XXXX (XXXX)"
   ]
  },
  {
   "cell_type": "markdown",
   "metadata": {
    "id": "sdUd0WXhrHnw"
   },
   "source": [
    "## Conociendo el entorno\n",
    "\n",
    "Para conocer la información de Hardware de la máquina en que se corre en cuestión."
   ]
  },
  {
   "cell_type": "code",
   "execution_count": 4,
   "metadata": {
    "colab": {
     "base_uri": "https://localhost:8080/"
    },
    "id": "fHt1IqocqJzV",
    "outputId": "9cf49212-01e7-4ffb-bbf4-4c1dded3e7b6"
   },
   "outputs": [
    {
     "name": "stdout",
     "output_type": "stream",
     "text": [
      "Architecture:            x86_64\n",
      "  CPU op-mode(s):        32-bit, 64-bit\n",
      "  Address sizes:         39 bits physical, 48 bits virtual\n",
      "  Byte Order:            Little Endian\n",
      "CPU(s):                  8\n",
      "  On-line CPU(s) list:   0-7\n",
      "Vendor ID:               GenuineIntel\n",
      "  Model name:            Intel(R) Core(TM) i5-8250U CPU @ 1.60GHz\n",
      "    CPU family:          6\n",
      "    Model:               142\n",
      "    Thread(s) per core:  2\n",
      "    Core(s) per socket:  4\n",
      "    Socket(s):           1\n",
      "    Stepping:            10\n",
      "    CPU(s) scaling MHz:  24%\n",
      "    CPU max MHz:         3400,0000\n",
      "    CPU min MHz:         400,0000\n",
      "    BogoMIPS:            3601,00\n",
      "    Flags:               fpu vme de pse tsc msr pae mce cx8 apic sep mtrr pge mc\n",
      "                         a cmov pat pse36 clflush dts acpi mmx fxsr sse sse2 ss \n",
      "                         ht tm pbe syscall nx pdpe1gb rdtscp lm constant_tsc art\n",
      "                          arch_perfmon pebs bts rep_good nopl xtopology nonstop_\n",
      "                         tsc cpuid aperfmperf pni pclmulqdq dtes64 monitor ds_cp\n",
      "                         l vmx est tm2 ssse3 sdbg fma cx16 xtpr pdcm pcid sse4_1\n",
      "                          sse4_2 x2apic movbe popcnt tsc_deadline_timer aes xsav\n",
      "                         e avx f16c rdrand lahf_lm abm 3dnowprefetch cpuid_fault\n",
      "                          epb pti ssbd ibrs ibpb stibp tpr_shadow flexpriority e\n",
      "                         pt vpid ept_ad fsgsbase tsc_adjust sgx bmi1 avx2 smep b\n",
      "                         mi2 erms invpcid mpx rdseed adx smap clflushopt intel_p\n",
      "                         t xsaveopt xsavec xgetbv1 xsaves dtherm ida arat pln pt\n",
      "                         s hwp hwp_notify hwp_act_window hwp_epp vnmi md_clear f\n",
      "                         lush_l1d arch_capabilities\n",
      "Virtualization features: \n",
      "  Virtualization:        VT-x\n",
      "Caches (sum of all):     \n",
      "  L1d:                   128 KiB (4 instances)\n",
      "  L1i:                   128 KiB (4 instances)\n",
      "  L2:                    1 MiB (4 instances)\n",
      "  L3:                    6 MiB (1 instance)\n",
      "NUMA:                    \n",
      "  NUMA node(s):          1\n",
      "  NUMA node0 CPU(s):     0-7\n",
      "Vulnerabilities:         \n",
      "  Gather data sampling:  Mitigation; Microcode\n",
      "  Itlb multihit:         KVM: Mitigation: VMX disabled\n",
      "  L1tf:                  Mitigation; PTE Inversion; VMX conditional cache flushe\n",
      "                         s, SMT vulnerable\n",
      "  Mds:                   Mitigation; Clear CPU buffers; SMT vulnerable\n",
      "  Meltdown:              Mitigation; PTI\n",
      "  Mmio stale data:       Mitigation; Clear CPU buffers; SMT vulnerable\n",
      "  Retbleed:              Mitigation; IBRS\n",
      "  Spec rstack overflow:  Not affected\n",
      "  Spec store bypass:     Mitigation; Speculative Store Bypass disabled via prctl\n",
      "  Spectre v1:            Mitigation; usercopy/swapgs barriers and __user pointer\n",
      "                          sanitization\n",
      "  Spectre v2:            Mitigation; IBRS, IBPB conditional, STIBP conditional, \n",
      "                         RSB filling, PBRSB-eIBRS Not affected\n",
      "  Srbds:                 Mitigation; Microcode\n",
      "  Tsx async abort:       Not affected\n"
     ]
    }
   ],
   "source": [
    "! lscpu"
   ]
  },
  {
   "cell_type": "markdown",
   "metadata": {
    "id": "9GeYe3xDrxp9"
   },
   "source": [
    "## Código del juego de la vida de Conway"
   ]
  },
  {
   "cell_type": "markdown",
   "metadata": {
    "id": "K543kM3JsOgk"
   },
   "source": [
    "### Versión secuencial"
   ]
  },
  {
   "cell_type": "code",
   "execution_count": null,
   "metadata": {
    "colab": {
     "base_uri": "https://localhost:8080/"
    },
    "id": "CCuRWEvBtQqg",
    "outputId": "546adc8b-7109-4b27-c15f-3e180094ef11"
   },
   "outputs": [],
   "source": [
    "# Version SECUENCIAL del juego de la vida de Conway\n",
    "#\n",
    "# Autor: John Sanabria - john.sanabria@correounivalle.edu.co\n",
    "# Fecha: 2023-02-22\n",
    "\n",
    "import numpy as np\n",
    "from time import time\n",
    "\n",
    "import matplotlib.pyplot as plt \n",
    "\n",
    "MAX_X = 512\n",
    "MAX_Y = 512\n",
    "\n",
    "#\n",
    "# Funciones auxiliares usadas para estimar los vecinos de una celda y\n",
    "# garantizar que los valores del borde no se vayan a sobrepasar\n",
    "#\n",
    "def posx(x, max_x = MAX_X):\n",
    "  return (x + max_x) % max_x\n",
    "\n",
    "def posy(y, max_y = MAX_Y):\n",
    "  return (y + max_y) % max_y\n",
    "\n",
    "def indice(x,y, max_y = MAX_Y):\n",
    "  return posx(x) * max_y + posy(y) \n",
    "\n",
    "#\n",
    "# Esta funcion se encarga de contar los 8 vecinos de una celda cuales están\n",
    "# vivos (valor a '1') o cuantos están muertos (valor a '0')\n",
    "#\n",
    "#                 |                |\n",
    "#  (X - 1, Y - 1) | (  X  , Y - 1) | (X + 1, Y - 1)\n",
    "#                 |                |\n",
    "# --------------------------------------------------\n",
    "#                 |                |\n",
    "#  (X - 1,   Y  ) | (  X  ,   Y  ) | (X + 1,   Y  )\n",
    "#                 |                |\n",
    "# --------------------------------------------------\n",
    "#                 |                |\n",
    "#  (X - 1, Y + 1) | (  X  , Y + 1) | (X + 1, Y + 1)\n",
    "#                 |                |\n",
    "\n",
    "def vecinos(x,y,vector):\n",
    "  return vector[ indice(x - 1, y - 1) ] + vector[ indice(x - 1, y) ] + vector[ indice(x - 1, y + 1) ] \\\n",
    "  + vector[ indice(x, y - 1) ] + vector[ indice(x, y + 1) ] \\\n",
    "  + vector[ indice(x + 1, y - 1) ] + vector[ indice(x + 1, y) ] + vector[ indice(x + 1, y + 1) ]\n",
    "#\n",
    "# Esta función se encarga de recorrer toda las celdas y estimar cuales de ellas \n",
    "# vivirán y cuales no \n",
    "#\n",
    "def conway(vector_out, vector_in, low_limit = 0, high_limit = MAX_X):\n",
    "  for i in range(low_limit,high_limit):\n",
    "    for j in range(0,MAX_Y):\n",
    "      n = vecinos(i,j, vector_in)\n",
    "      valor = 0\n",
    "      if vector_in[ indice(i,j) ] == 1 and (n == 2 or n == 3):\n",
    "        valor = 1\n",
    "      elif vector_in[ indice(i,j) ] == 0 and n == 3:\n",
    "        valor = 1\n",
    "      vector_out[ indice(i,j) ] = valor\n",
    "\n",
    "#\n",
    "# Función principal\n",
    "#\n",
    "if __name__ == '__main__':\n",
    "  vector = np.int32( np.random.choice([1,0], MAX_X * MAX_Y, p = [0.50, 0.50]) )\n",
    "  vector_out = np.empty(MAX_X * MAX_Y, dtype = np.int32)\n",
    "  print(vector)\n",
    "  t1 = time()\n",
    "  conway(vector_out, vector)\n",
    "  t2 = time()\n",
    "  print(vector_out)\n",
    "  print(f\"El tiempo que tomó calcular {t2 - t1}\")\n",
    "  fig = plt.figure()\n",
    "  plt.imshow(vector_out.reshape(MAX_X,MAX_Y))\n",
    "  plt.show()  "
   ]
  },
  {
   "cell_type": "markdown",
   "metadata": {
    "id": "w6VccN8eq_bK"
   },
   "source": [
    "### Versión paralelizada (ipyparallel)"
   ]
  },
  {
   "cell_type": "code",
   "execution_count": null,
   "metadata": {
    "colab": {
     "base_uri": "https://localhost:8080/"
    },
    "id": "GMaq0apPqt9z",
    "outputId": "ff349ff7-7341-4e86-cf11-6934074496f8"
   },
   "outputs": [],
   "source": [
    "## Insertar versión paralelizada aquí"
   ]
  }
 ],
 "metadata": {
  "colab": {
   "provenance": [],
   "toc_visible": true
  },
  "kernelspec": {
   "display_name": "Python 3 (ipykernel)",
   "language": "python",
   "name": "python3"
  },
  "language_info": {
   "codemirror_mode": {
    "name": "ipython",
    "version": 3
   },
   "file_extension": ".py",
   "mimetype": "text/x-python",
   "name": "python",
   "nbconvert_exporter": "python",
   "pygments_lexer": "ipython3",
   "version": "3.11.6"
  }
 },
 "nbformat": 4,
 "nbformat_minor": 4
}
