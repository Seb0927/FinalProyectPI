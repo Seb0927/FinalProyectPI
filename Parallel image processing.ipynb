{
 "cells": [
  {
   "cell_type": "markdown",
   "id": "9bd8dc41",
   "metadata": {},
   "source": [
    "# Motivating example: Parallel image processing with scikit-image"
   ]
  },
  {
   "cell_type": "markdown",
   "id": "64654e47",
   "metadata": {},
   "source": [
    "To get a sense of what IPython.parallel might be used for,\n",
    "we start with an example of some batch processing of image files with [scikit-image](http://scikit-image.org/).\n",
    "We will revisit pieces of this example as we learn about the different components of IPython.\n",
    "\n",
    "You can download images with [this notebook](../images.ipynb), or get a zip [here](https://s3.amazonaws.com/ipython-parallel-data/images.zip), or find any images on your computer."
   ]
  },
  {
   "cell_type": "code",
   "execution_count": null,
   "id": "b2ef3fc7",
   "metadata": {
    "collapsed": false,
    "jupyter": {
     "outputs_hidden": false
    }
   },
   "outputs": [],
   "source": [
    "%matplotlib inline\n",
    "import matplotlib.pyplot as plt"
   ]
  },
  {
   "cell_type": "code",
   "execution_count": 3,
   "id": "3f494237",
   "metadata": {
    "collapsed": false,
    "jupyter": {
     "outputs_hidden": false
    }
   },
   "outputs": [],
   "source": [
    "import sys,os,re,time\n",
    "import urllib\n",
    "\n",
    "import numpy as np\n",
    "\n",
    "import ipyparallel as parallel"
   ]
  },
  {
   "cell_type": "code",
   "execution_count": null,
   "id": "62dd81a4",
   "metadata": {
    "collapsed": false,
    "jupyter": {
     "outputs_hidden": false
    }
   },
   "outputs": [],
   "source": [
    "from skimage.io import imread\n",
    "from skimage import measure"
   ]
  },
  {
   "cell_type": "markdown",
   "id": "837ad756",
   "metadata": {},
   "source": [
    "Define a function to "
   ]
  },
  {
   "cell_type": "code",
   "execution_count": 1,
   "id": "1e866eba",
   "metadata": {
    "collapsed": false,
    "jupyter": {
     "outputs_hidden": false
    }
   },
   "outputs": [],
   "source": [
    "def find_contours(path, low=0.1, high=0.8):\n",
    "    \"\"\"Find contours in an image at path\n",
    "    \n",
    "    Returns the image and the contour lists.\n",
    "    \"\"\"\n",
    "    img = imread(path, flatten=True)\n",
    "    \n",
    "    # Find contours at a constant value of 0.1 and 0.8\n",
    "    dark = measure.find_contours(img, low)\n",
    "    light = measure.find_contours(img, high)\n",
    "    return img, dark, light\n"
   ]
  },
  {
   "cell_type": "code",
   "execution_count": 2,
   "id": "1ef6c59c",
   "metadata": {
    "collapsed": false,
    "jupyter": {
     "outputs_hidden": false
    }
   },
   "outputs": [],
   "source": [
    "def plot_contours(img, dark, light, show=True):\n",
    "    \"\"\"Display the image and plot all contours found\"\"\"\n",
    "    plt.imshow(img, cmap='gray')\n",
    "    \n",
    "    for n, contour in enumerate(dark):\n",
    "        plt.plot(contour[:, 1], contour[:, 0], c='r', linewidth=1)\n",
    "    \n",
    "    for n, contour in enumerate(light):\n",
    "        plt.plot(contour[:, 1], contour[:, 0], c='b', linewidth=1)\n",
    "\n",
    "    plt.axis('image')\n",
    "    plt.xticks([])\n",
    "    plt.yticks([])\n",
    "    if show:\n",
    "        plt.show()\n"
   ]
  },
  {
   "cell_type": "code",
   "execution_count": 3,
   "id": "9efe30ab",
   "metadata": {
    "collapsed": false,
    "jupyter": {
     "outputs_hidden": false
    }
   },
   "outputs": [],
   "source": [
    "def get_contours_image(path):\n",
    "    \"\"\"Given a path, return a PNG of the image with contour lines\n",
    "    \n",
    "    Calls both find_contours and plot_contours\n",
    "    \"\"\"\n",
    "    from IPython.core.pylabtools import print_figure\n",
    "    \n",
    "    img, dark, light = find_contours(path)\n",
    "    plot_contours(img, dark, light, show=False)\n",
    "    fig = plt.gcf()\n",
    "    pngdata = print_figure(fig)\n",
    "    plt.close(fig)\n",
    "    return pngdata\n"
   ]
  },
  {
   "cell_type": "code",
   "execution_count": null,
   "id": "c087ee1f",
   "metadata": {
    "collapsed": false,
    "jupyter": {
     "outputs_hidden": false
    }
   },
   "outputs": [],
   "source": [
    "import os\n",
    "pictures_dir = os.path.join('..', 'images', 'castle')\n",
    "\n",
    "pictures = []\n",
    "for directory, subdirs, files in os.walk(pictures_dir):\n",
    "    for fname in files:\n",
    "        if fname.lower().endswith(('.jpg', '.png')):\n",
    "            pictures.append(os.path.join(directory, fname))\n"
   ]
  },
  {
   "cell_type": "markdown",
   "id": "eb113c4e",
   "metadata": {},
   "source": [
    "Let's test our function locally, to see what it does."
   ]
  },
  {
   "cell_type": "code",
   "execution_count": null,
   "id": "997c390c",
   "metadata": {
    "collapsed": false,
    "jupyter": {
     "outputs_hidden": false
    }
   },
   "outputs": [],
   "source": [
    "for p in pictures[:3]:\n",
    "    img, dark, light = find_contours(p)\n",
    "    plot_contours(img, dark, light)\n"
   ]
  },
  {
   "cell_type": "markdown",
   "id": "fa3b20e2",
   "metadata": {},
   "source": [
    "# Now in parallel"
   ]
  },
  {
   "cell_type": "markdown",
   "id": "2bef1391",
   "metadata": {},
   "source": [
    "First, we connect our parallel Client."
   ]
  },
  {
   "cell_type": "code",
   "execution_count": 4,
   "id": "554ac82c",
   "metadata": {
    "collapsed": false,
    "jupyter": {
     "outputs_hidden": false
    }
   },
   "outputs": [
    {
     "ename": "NameError",
     "evalue": "name 'parallel' is not defined",
     "output_type": "error",
     "traceback": [
      "\u001b[0;31m---------------------------------------------------------------------------\u001b[0m",
      "\u001b[0;31mNameError\u001b[0m                                 Traceback (most recent call last)",
      "Cell \u001b[0;32mIn[4], line 1\u001b[0m\n\u001b[0;32m----> 1\u001b[0m rc \u001b[38;5;241m=\u001b[39m \u001b[43mparallel\u001b[49m\u001b[38;5;241m.\u001b[39mClient()\n\u001b[1;32m      2\u001b[0m all_engines \u001b[38;5;241m=\u001b[39m rc[:]\n\u001b[1;32m      3\u001b[0m view \u001b[38;5;241m=\u001b[39m rc\u001b[38;5;241m.\u001b[39mload_balanced_view()\n",
      "\u001b[0;31mNameError\u001b[0m: name 'parallel' is not defined"
     ]
    }
   ],
   "source": [
    "rc = parallel.Client()\n",
    "all_engines = rc[:]\n",
    "view = rc.load_balanced_view()"
   ]
  },
  {
   "cell_type": "markdown",
   "id": "8cc3e58d",
   "metadata": {},
   "source": [
    "Then we initialize the namespace on all of the engines with imports"
   ]
  },
  {
   "cell_type": "code",
   "execution_count": null,
   "id": "77952ace",
   "metadata": {
    "collapsed": false,
    "jupyter": {
     "outputs_hidden": false
    }
   },
   "outputs": [
    {
     "name": "stdout",
     "output_type": "stream",
     "text": [
      "%px:   0%|                                               | 0/8 [02:39<?, ?tasks/s]"
     ]
    }
   ],
   "source": [
    "%px import os; os.chdir(\"{os.getcwd()}\")"
   ]
  },
  {
   "cell_type": "code",
   "execution_count": null,
   "id": "db762d3c",
   "metadata": {
    "collapsed": false,
    "jupyter": {
     "outputs_hidden": false
    }
   },
   "outputs": [],
   "source": [
    "%%px\n",
    "import matplotlib\n",
    "matplotlib.use('Agg')\n",
    "import matplotlib.pyplot as plt\n",
    "\n",
    "from skimage.io import imread\n",
    "from skimage import measure"
   ]
  },
  {
   "cell_type": "markdown",
   "id": "10e33028",
   "metadata": {},
   "source": [
    "and make sure some functions are defined everywhere (this is only necessary for the `contours_in_url` case)"
   ]
  },
  {
   "cell_type": "code",
   "execution_count": null,
   "id": "ed46925f",
   "metadata": {
    "collapsed": false,
    "jupyter": {
     "outputs_hidden": false
    }
   },
   "outputs": [],
   "source": [
    "all_engines.push(dict(\n",
    "    plot_contours=plot_contours,\n",
    "    find_contours=find_contours,\n",
    "))"
   ]
  },
  {
   "cell_type": "markdown",
   "id": "a4353663",
   "metadata": {},
   "source": [
    "Now we can iterate through all of our pictures, and detect and display any faces we find"
   ]
  },
  {
   "cell_type": "code",
   "execution_count": null,
   "id": "5520fffa",
   "metadata": {
    "collapsed": false,
    "jupyter": {
     "outputs_hidden": false
    }
   },
   "outputs": [],
   "source": [
    "from IPython.display import display, Image\n",
    "\n",
    "amr = view.map_async(get_contours_image, pictures[:20], ordered=False)\n",
    "for pngdata in amr:\n",
    "    display(Image(data=pngdata))\n"
   ]
  }
 ],
 "metadata": {
  "kernelspec": {
   "display_name": "Python 3 (ipykernel)",
   "language": "python",
   "name": "python3"
  },
  "language_info": {
   "codemirror_mode": {
    "name": "ipython",
    "version": 3
   },
   "file_extension": ".py",
   "mimetype": "text/x-python",
   "name": "python",
   "nbconvert_exporter": "python",
   "pygments_lexer": "ipython3",
   "version": "3.11.5"
  }
 },
 "nbformat": 4,
 "nbformat_minor": 5
}
