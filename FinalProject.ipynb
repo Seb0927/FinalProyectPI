{
 "cells": [
  {
   "cell_type": "markdown",
   "metadata": {
    "id": "sdUd0WXhrHnw"
   },
   "source": [
    "## Conociendo el entorno\n",
    "\n",
    "Para conocer la información de Hardware de la máquina en que se corre en cuestión."
   ]
  },
  {
   "cell_type": "code",
   "execution_count": null,
   "metadata": {
    "colab": {
     "base_uri": "https://localhost:8080/"
    },
    "id": "fHt1IqocqJzV",
    "outputId": "9cf49212-01e7-4ffb-bbf4-4c1dded3e7b6"
   },
   "outputs": [],
   "source": [
    "! lscpu"
   ]
  },
  {
   "cell_type": "markdown",
   "metadata": {},
   "source": [
    "## Instalando dependencias necesarias"
   ]
  },
  {
   "cell_type": "code",
   "execution_count": null,
   "metadata": {},
   "outputs": [],
   "source": [
    "! pip install matplotlib\n",
    "! pip install ipyparallel"
   ]
  },
  {
   "cell_type": "markdown",
   "metadata": {
    "id": "9GeYe3xDrxp9"
   },
   "source": [
    "## Código del juego de la vida de Conway"
   ]
  },
  {
   "cell_type": "markdown",
   "metadata": {
    "id": "K543kM3JsOgk"
   },
   "source": [
    "### Versión secuencial"
   ]
  },
  {
   "cell_type": "code",
   "execution_count": null,
   "metadata": {
    "colab": {
     "base_uri": "https://localhost:8080/"
    },
    "id": "CCuRWEvBtQqg",
    "outputId": "546adc8b-7109-4b27-c15f-3e180094ef11"
   },
   "outputs": [],
   "source": [
    "# Version SECUENCIAL del juego de la vida de Conway\n",
    "#\n",
    "# Autor: John Sanabria - john.sanabria@correounivalle.edu.co\n",
    "# Fecha: 2023-02-22\n",
    "\n",
    "import numpy as np\n",
    "from time import time\n",
    "\n",
    "import matplotlib.pyplot as plt \n",
    "\n",
    "MAX_X = 512\n",
    "MAX_Y = 512\n",
    "\n",
    "#\n",
    "# Funciones auxiliares usadas para estimar los vecinos de una celda y\n",
    "# garantizar que los valores del borde no se vayan a sobrepasar\n",
    "#\n",
    "def posx(x, max_x = MAX_X):\n",
    "  return (x + max_x) % max_x\n",
    "\n",
    "def posy(y, max_y = MAX_Y):\n",
    "  return (y + max_y) % max_y\n",
    "\n",
    "def indice(x,y, max_y = MAX_Y):\n",
    "  return posx(x) * max_y + posy(y) \n",
    "\n",
    "#\n",
    "# Esta funcion se encarga de contar los 8 vecinos de una celda cuales están\n",
    "# vivos (valor a '1') o cuantos están muertos (valor a '0')\n",
    "#\n",
    "#                 |                |\n",
    "#  (X - 1, Y - 1) | (  X  , Y - 1) | (X + 1, Y - 1)\n",
    "#                 |                |\n",
    "# --------------------------------------------------\n",
    "#                 |                |\n",
    "#  (X - 1,   Y  ) | (  X  ,   Y  ) | (X + 1,   Y  )\n",
    "#                 |                |\n",
    "# --------------------------------------------------\n",
    "#                 |                |\n",
    "#  (X - 1, Y + 1) | (  X  , Y + 1) | (X + 1, Y + 1)\n",
    "#                 |                |\n",
    "\n",
    "def vecinos(x,y,vector):\n",
    "  return vector[ indice(x - 1, y - 1) ] + vector[ indice(x - 1, y) ] + vector[ indice(x - 1, y + 1) ] \\\n",
    "  + vector[ indice(x, y - 1) ] + vector[ indice(x, y + 1) ] \\\n",
    "  + vector[ indice(x + 1, y - 1) ] + vector[ indice(x + 1, y) ] + vector[ indice(x + 1, y + 1) ]\n",
    "#\n",
    "# Esta función se encarga de recorrer toda las celdas y estimar cuales de ellas \n",
    "# vivirán y cuales no \n",
    "#\n",
    "def conway(vector_out, vector_in, low_limit = 0, high_limit = MAX_X):\n",
    "  for i in range(low_limit,high_limit):\n",
    "    for j in range(0,MAX_Y):\n",
    "      n = vecinos(i,j, vector_in)\n",
    "      valor = 0\n",
    "      if vector_in[ indice(i,j) ] == 1 and (n == 2 or n == 3):\n",
    "        valor = 1\n",
    "      elif vector_in[ indice(i,j) ] == 0 and n == 3:\n",
    "        valor = 1\n",
    "      vector_out[ indice(i,j) ] = valor\n",
    "\n",
    "#\n",
    "# Función principal\n",
    "#\n",
    "if __name__ == '__main__':\n",
    "  vector = np.int32( np.random.choice([1,0], MAX_X * MAX_Y, p = [0.50, 0.50]) )\n",
    "  vector_out = np.empty(MAX_X * MAX_Y, dtype = np.int32)\n",
    "  print(vector)\n",
    "  t1 = time()\n",
    "  conway(vector_out, vector)\n",
    "  t2 = time()\n",
    "  print(vector_out)\n",
    "  print(f\"El tiempo que tomó calcular {t2 - t1}\")\n",
    "  fig = plt.figure()\n",
    "  plt.imshow(vector_out.reshape(MAX_X,MAX_Y))\n",
    "  plt.show()  "
   ]
  },
  {
   "cell_type": "markdown",
   "metadata": {
    "id": "w6VccN8eq_bK"
   },
   "source": [
    "### Versión paralelizada (ipyparallel)"
   ]
  },
  {
   "cell_type": "markdown",
   "metadata": {
    "colab": {
     "base_uri": "https://localhost:8080/"
    },
    "id": "GMaq0apPqt9z",
    "outputId": "ff349ff7-7341-4e86-cf11-6934074496f8"
   },
   "source": [
    "Se realizan las respectivas importaciones"
   ]
  },
  {
   "cell_type": "code",
   "execution_count": null,
   "metadata": {},
   "outputs": [],
   "source": [
    "#Esto es para visualizar la imágen\n",
    "%matplotlib inline\n",
    "import matplotlib.pyplot as plt"
   ]
  },
  {
   "cell_type": "code",
   "execution_count": null,
   "metadata": {},
   "outputs": [],
   "source": [
    "import numpy as np\n",
    "import ipyparallel as parallel"
   ]
  },
  {
   "cell_type": "markdown",
   "metadata": {},
   "source": [
    "Definimos algunas variables globales para el código del juego de la vida de Conway y también del código encargado de la paralelización"
   ]
  },
  {
   "cell_type": "code",
   "execution_count": null,
   "metadata": {},
   "outputs": [],
   "source": [
    "MAX_UNITS = 4 #Numero de unidades (Divisiones de la malla)\n",
    "\n",
    "def calcular_constante(n, constante = 1):\n",
    "  if (n==4):\n",
    "    return int(constante * 2)\n",
    "  else:\n",
    "    return calcular_constante(n/4, constante*2)\n",
    "\n",
    "MAX_UNITS_POR_FILA = int(MAX_UNITS/calcular_constante(MAX_UNITS))\n",
    "MAX_X = 16 #Dimensión en X de la grilla\n",
    "MAX_Y = 16 #Dimensión en Y de la grilla total\n",
    "SUBMAX_X = int(MAX_X/MAX_UNITS_POR_FILA) #Dimensión en X de la subgrilla\n",
    "SUBMAX_Y = int(MAX_Y/MAX_UNITS_POR_FILA) #Dimensión en Y de la subgrilla"
   ]
  },
  {
   "cell_type": "markdown",
   "metadata": {},
   "source": [
    "Se definen las respectivas funciones que se encargan de calcular el juego de la vida de Conway"
   ]
  },
  {
   "cell_type": "code",
   "execution_count": null,
   "metadata": {},
   "outputs": [],
   "source": [
    "#\n",
    "# Funciones auxiliares usadas para estimar los vecinos de una celda y\n",
    "# garantizar que los valores del borde no se vayan a sobrepasar\n",
    "#\n",
    "\n",
    "def posx(x, max_x = MAX_X):\n",
    "  return (x + max_x) % max_x #2\n",
    "\n",
    "def posy(y, max_y = MAX_Y):\n",
    "  return (y + max_y) % max_y #1\n",
    "\n",
    "def indice(x,y, max_y = MAX_Y):\n",
    "  return posx(x) * max_y + posy(y) # 16\n",
    "\n",
    "def subposx(x, max_x = SUBMAX_X):\n",
    "  return (x + max_x) % max_x\n",
    "\n",
    "def subposy(y, max_y = SUBMAX_Y):\n",
    "  return (y + max_y) % max_y\n",
    "\n",
    "def subindice(x,y, max_y = SUBMAX_Y):\n",
    "  return posx(x) * max_y + posy(y)\n",
    "\n",
    "#\n",
    "# Esta funcion se encarga de contar los 8 vecinos de una celda cuales están\n",
    "# vivos (valor a '1') o cuantos están muertos (valor a '0')\n",
    "#\n",
    "#                 |                |\n",
    "#  (X - 1, Y - 1) | (  X  , Y - 1) | (X + 1, Y - 1)\n",
    "#                 |                |\n",
    "# --------------------------------------------------\n",
    "#                 |                |\n",
    "#  (X - 1,   Y  ) | (  X  ,   Y  ) | (X + 1,   Y  )\n",
    "#                 |                |\n",
    "# --------------------------------------------------\n",
    "#                 |                |\n",
    "#  (X - 1, Y + 1) | (  X  , Y + 1) | (X + 1, Y + 1)\n",
    "#\n",
    "\n",
    "def vecinos(x,y,vector):\n",
    "  return vector[ indice(x - 1, y - 1) ] + vector[ indice(x - 1, y) ] + vector[ indice(x - 1, y + 1) ] \\\n",
    "  + vector[ indice(x, y - 1) ] + vector[ indice(x, y + 1) ] \\\n",
    "  + vector[ indice(x + 1, y - 1) ] + vector[ indice(x + 1, y) ] + vector[ indice(x + 1, y + 1) ]\n",
    "\n",
    "def imprimir_vecinos(x,y):\n",
    "    print(f\"La posicion ({x},{y}) paso de {vector[indice(x,y)]} a {vector_out[indice(x,y)]}\")\n",
    "    print(\"Sus vecinos eran\")\n",
    "    print(f\"{vector[ indice(x - 1, y - 1) ]}, {vector[ indice(x - 1, y) ]}, {vector[ indice(x - 1, y + 1)]}\")\n",
    "    print(f\"{vector[ indice(x, y - 1) ]}, X, {vector[ indice(x, y + 1) ]}\")\n",
    "    print(f\"{vector[ indice(x + 1, y - 1) ]}, {vector[ indice(x + 1, y) ]}, {vector[ indice(x + 1, y + 1) ]}\")\n",
    "    \n",
    "#\n",
    "# Esta función se encarga de recorrer toda las celdas y estimar cuales de ellas \n",
    "# vivirán y cuales no \n",
    "#\n",
    "def conway(vector_out, vector_in, stride_x, stride_y):\n",
    "  for i in range(stride_x,SUBMAX_X+stride_x):\n",
    "    for j in range(stride_y,SUBMAX_Y+stride_y):\n",
    "      n = vecinos(i,j, vector_in)\n",
    "      valor = 0\n",
    "      if vector_in[ indice(i,j) ] == 1 and (n == 2 or n == 3):\n",
    "        valor = 1\n",
    "      elif vector_in[ indice(i,j) ] == 0 and n == 3:\n",
    "        valor = 1\n",
    "        \n",
    "      if (i >= SUBMAX_X):\n",
    "        i1 = i-stride_x\n",
    "      else:\n",
    "        i1 = i\n",
    "\n",
    "      if (j >= SUBMAX_Y):\n",
    "        j1 = j-stride_y\n",
    "      else:\n",
    "        j1 = j\n",
    "          \n",
    "      vector_out[ subindice(i1,j1) ] = valor\n",
    "  return vector_out\n",
    "\n",
    "# Wrapper utilizado para la paralelización\n",
    "def conway_wrapper(args):\n",
    "    vector_out, vector_in, x, y = args\n",
    "    return conway(vector_out, vector_in, x, y)"
   ]
  },
  {
   "cell_type": "markdown",
   "metadata": {},
   "source": [
    "## Hora de paralelizar"
   ]
  },
  {
   "cell_type": "markdown",
   "metadata": {},
   "source": [
    "Se conecta con el respectivo *Client* paralelo"
   ]
  },
  {
   "cell_type": "code",
   "execution_count": null,
   "metadata": {},
   "outputs": [],
   "source": [
    "rc = parallel.Client()\n",
    "all_engines = rc[:]\n",
    "view = rc.load_balanced_view()"
   ]
  },
  {
   "cell_type": "markdown",
   "metadata": {},
   "source": [
    "Se proceden a definir los respectivos *namespaces* en cada uno de los *engines* con imports"
   ]
  },
  {
   "cell_type": "code",
   "execution_count": null,
   "metadata": {},
   "outputs": [],
   "source": [
    "%%px\n",
    "import time\n",
    "import numpy as np"
   ]
  },
  {
   "cell_type": "markdown",
   "metadata": {},
   "source": [
    "Procedemos a inicializar cada una de las funciones declaradas anteriormente en cada uno de los *engines*"
   ]
  },
  {
   "cell_type": "code",
   "execution_count": null,
   "metadata": {},
   "outputs": [],
   "source": [
    "all_engines.push(dict(\n",
    "    posx=posx,\n",
    "    posy=posy,\n",
    "    indice=indice,\n",
    "    subposx=subposx,\n",
    "    subposy=subposy,\n",
    "    subindice=subindice,\n",
    "    vecinos=vecinos,\n",
    "    imprimir_vecinos=imprimir_vecinos, #Creo que no es necesario\n",
    "    conway=conway,\n",
    "    SUBMAX_X=SUBMAX_X,\n",
    "    SUBMAX_Y=SUBMAX_Y,\n",
    "))"
   ]
  },
  {
   "cell_type": "markdown",
   "metadata": {},
   "source": [
    "Ahora es posible iterar sobre cada uno de los sub-espacios disponibles para calcular el juego de la vida de Conway"
   ]
  },
  {
   "cell_type": "code",
   "execution_count": null,
   "metadata": {},
   "outputs": [],
   "source": [
    "vector = np.int32( np.random.choice([1,0], MAX_X * MAX_Y, p = [0.50, 0.50]) )\n",
    "fig = plt.figure()\n",
    "plt.imshow(vector.reshape(MAX_X,MAX_Y))\n",
    "plt.show()"
   ]
  },
  {
   "cell_type": "code",
   "execution_count": null,
   "metadata": {},
   "outputs": [],
   "source": [
    "stride = SUBMAX_X\n",
    "count = 0\n",
    "\n",
    "vector_out = np.empty(stride * stride, dtype = np.int32)\n",
    "\n",
    "# Creación de una lista de listas para los argumentos\n",
    "arguments_list = []\n",
    "for x in range(0, MAX_X, SUBMAX_X):\n",
    "  for y in range(0, MAX_Y, SUBMAX_Y):\n",
    "    arguments_list.append((vector_out, vector, x, y))\n",
    "\n",
    "\n",
    "# medir tiempo de inicio\n",
    "#t1 = time()\n",
    "\n",
    "# Usando el load_balanced_view para distribuir el trabajo\n",
    "amr = view.map_async(conway_wrapper, arguments_list, ordered=True)\n",
    "\n",
    "# Esperar por los resultados\n",
    "results = amr.get()\n",
    "\n",
    "# medir tiempo final\n",
    "#t2 = time()\n",
    "\n",
    "# tiempo de ejecución\n",
    "#print(f\"El tiempo que tomó calcular {t2 - t1}\")\n",
    "\n",
    "# Transformar a submatrices\n",
    "for i in range(0, MAX_UNITS):\n",
    "  results[i] = results[i].reshape(SUBMAX_X,SUBMAX_Y)\n",
    "    \n",
    "# Inicializar finalResult\n",
    "finalResult = []\n",
    "\n",
    "def concatenarFilas(array, row):\n",
    "  final = []\n",
    "  section = int(row // SUBMAX_X)\n",
    "  row = int(row % SUBMAX_X)\n",
    "  for i in range(section*MAX_UNITS_POR_FILA,section*MAX_UNITS_POR_FILA+MAX_UNITS_POR_FILA):\n",
    "    subArray = array[i].tolist()\n",
    "    final += subArray[row]\n",
    "\n",
    "  return final\n",
    "\n",
    "for row in range(0, MAX_X):\n",
    "  finalResult.append(concatenarFilas(results, row))\n",
    "\n",
    "print(finalResult)\n",
    "finalResult = np.array(finalResult)\n",
    "\n",
    "fig = plt.figure()\n",
    "plt.imshow(finalResult.reshape(MAX_X,MAX_Y))\n",
    "plt.show()"
   ]
  }
 ],
 "metadata": {
  "colab": {
   "provenance": [],
   "toc_visible": true
  },
  "kernelspec": {
   "display_name": "Python 3 (ipykernel)",
   "language": "python",
   "name": "python3"
  },
  "language_info": {
   "codemirror_mode": {
    "name": "ipython",
    "version": 3
   },
   "file_extension": ".py",
   "mimetype": "text/x-python",
   "name": "python",
   "nbconvert_exporter": "python",
   "pygments_lexer": "ipython3",
   "version": "3.11.6"
  }
 },
 "nbformat": 4,
 "nbformat_minor": 4
}
