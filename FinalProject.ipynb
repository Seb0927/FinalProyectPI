{
 "cells": [
  {
   "cell_type": "markdown",
   "metadata": {
    "id": "Eu6MRusrqYMk"
   },
   "source": [
    "# Paralelización del Juego de la vida de Conway por medio de Python utilizando ipyparallel\n",
    "\n",
    "Desarrollado por:\n",
    "- Sebastián Idrobo Avirama (2122637)\n",
    "- XXXX (XXXX)\n",
    "- XXXX (XXXX)"
   ]
  },
  {
   "cell_type": "markdown",
   "metadata": {
    "id": "sdUd0WXhrHnw"
   },
   "source": [
    "## Conociendo el entorno\n",
    "\n",
    "Para conocer la información de Hardware de la máquina en que se corre en cuestión."
   ]
  },
  {
   "cell_type": "code",
   "execution_count": null,
   "metadata": {
    "colab": {
     "base_uri": "https://localhost:8080/"
    },
    "id": "fHt1IqocqJzV",
    "outputId": "9cf49212-01e7-4ffb-bbf4-4c1dded3e7b6"
   },
   "outputs": [],
   "source": [
    "! lscpu"
   ]
  },
  {
   "cell_type": "markdown",
   "metadata": {},
   "source": [
    "## Instalando dependencias necesarias"
   ]
  },
  {
   "cell_type": "code",
   "execution_count": null,
   "metadata": {},
   "outputs": [],
   "source": [
    "! pip install matplotlib"
   ]
  },
  {
   "cell_type": "markdown",
   "metadata": {
    "id": "9GeYe3xDrxp9"
   },
   "source": [
    "## Código del juego de la vida de Conway"
   ]
  },
  {
   "cell_type": "markdown",
   "metadata": {
    "id": "K543kM3JsOgk"
   },
   "source": [
    "### Versión secuencial"
   ]
  },
  {
   "cell_type": "code",
   "execution_count": 17,
   "metadata": {
    "colab": {
     "base_uri": "https://localhost:8080/"
    },
    "id": "CCuRWEvBtQqg",
    "outputId": "546adc8b-7109-4b27-c15f-3e180094ef11"
   },
   "outputs": [
    {
     "name": "stdout",
     "output_type": "stream",
     "text": [
      "[0 1 0 0 0 1 0 0 0 0 1 0 0 0 0 0]\n",
      "[0 0 0 0 0 1 1 0 0 0 0 0 0 0 0 0]\n",
      "El tiempo que tomó calcular 0.0015568733215332031\n"
     ]
    },
    {
     "data": {
      "image/png": "[encoded data removed]",
      "text/plain": [
       "<Figure size 640x480 with 1 Axes>"
      ]
     },
     "metadata": {},
     "output_type": "display_data"
    }
   ],
   "source": [
    "# Version SECUENCIAL del juego de la vida de Conway\n",
    "#\n",
    "# Autor: John Sanabria - john.sanabria@correounivalle.edu.co\n",
    "# Fecha: 2023-02-22\n",
    "\n",
    "import numpy as np\n",
    "from time import time\n",
    "\n",
    "import matplotlib.pyplot as plt \n",
    "\n",
    "MAX_X = 4\n",
    "MAX_Y = 4\n",
    "\n",
    "#\n",
    "# Funciones auxiliares usadas para estimar los vecinos de una celda y\n",
    "# garantizar que los valores del borde no se vayan a sobrepasar\n",
    "#\n",
    "def posx(x, max_x = MAX_X):\n",
    "  return (x + max_x) % max_x\n",
    "\n",
    "def posy(y, max_y = MAX_Y):\n",
    "  return (y + max_y) % max_y\n",
    "\n",
    "def indice(x,y, max_y = MAX_Y):\n",
    "  return posx(x) * max_y + posy(y) \n",
    "\n",
    "#\n",
    "# Esta funcion se encarga de contar los 8 vecinos de una celda cuales están\n",
    "# vivos (valor a '1') o cuantos están muertos (valor a '0')\n",
    "#\n",
    "#                 |                |\n",
    "#  (X - 1, Y - 1) | (  X  , Y - 1) | (X + 1, Y - 1)\n",
    "#                 |                |\n",
    "# --------------------------------------------------\n",
    "#                 |                |\n",
    "#  (X - 1,   Y  ) | (  X  ,   Y  ) | (X + 1,   Y  )\n",
    "#                 |                |\n",
    "# --------------------------------------------------\n",
    "#                 |                |\n",
    "#  (X - 1, Y + 1) | (  X  , Y + 1) | (X + 1, Y + 1)\n",
    "#                 |                |\n",
    "\n",
    "def vecinos(x,y,vector):\n",
    "  return vector[ indice(x - 1, y - 1) ] + vector[ indice(x - 1, y) ] + vector[ indice(x - 1, y + 1) ] \\\n",
    "  + vector[ indice(x, y - 1) ] + vector[ indice(x, y + 1) ] \\\n",
    "  + vector[ indice(x + 1, y - 1) ] + vector[ indice(x + 1, y) ] + vector[ indice(x + 1, y + 1) ]\n",
    "#\n",
    "# Esta función se encarga de recorrer toda las celdas y estimar cuales de ellas \n",
    "# vivirán y cuales no \n",
    "#\n",
    "def conway(vector_out, vector_in, low_limit = 0, high_limit = MAX_X):\n",
    "  for i in range(low_limit,high_limit):\n",
    "    for j in range(0,MAX_Y):\n",
    "      n = vecinos(i,j, vector_in)\n",
    "      valor = 0\n",
    "      if vector_in[ indice(i,j) ] == 1 and (n == 2 or n == 3):\n",
    "        valor = 1\n",
    "      elif vector_in[ indice(i,j) ] == 0 and n == 3:\n",
    "        valor = 1\n",
    "      vector_out[ indice(i,j) ] = valor\n",
    "\n",
    "#\n",
    "# Función principal\n",
    "#\n",
    "if __name__ == '__main__':\n",
    "  #vector = np.int32( np.random.choice([1,0], MAX_X * MAX_Y, p = [0.50, 0.50]) )\n",
    "  vector = np.int32([0,0,0,0,0,0,0,0,0,0,0,0,0,0,0,0])\n",
    "  vector_out = np.empty(MAX_X * MAX_Y, dtype = np.int32)\n",
    "  print(vector)\n",
    "  t1 = time()\n",
    "  conway(vector_out, vector)\n",
    "  t2 = time()\n",
    "  print(vector_out)\n",
    "  print(f\"El tiempo que tomó calcular {t2 - t1}\")\n",
    "  fig = plt.figure()\n",
    "  plt.imshow(vector_out.reshape(MAX_X,MAX_Y))\n",
    "  plt.show()  "
   ]
  },
  {
   "cell_type": "markdown",
   "metadata": {
    "id": "w6VccN8eq_bK"
   },
   "source": [
    "### Versión paralelizada (ipyparallel)"
   ]
  },
  {
   "cell_type": "markdown",
   "metadata": {
    "colab": {
     "base_uri": "https://localhost:8080/"
    },
    "id": "GMaq0apPqt9z",
    "outputId": "ff349ff7-7341-4e86-cf11-6934074496f8"
   },
   "source": [
    "Se realizan las respectivas importaciones"
   ]
  },
  {
   "cell_type": "code",
   "execution_count": 101,
   "metadata": {},
   "outputs": [],
   "source": [
    "#Esto es para visualizar la imágen\n",
    "%matplotlib inline\n",
    "import matplotlib.pyplot as plt"
   ]
  },
  {
   "cell_type": "code",
   "execution_count": 88,
   "metadata": {},
   "outputs": [],
   "source": [
    "import numpy as np\n",
    "import ipyparallel as parallel"
   ]
  },
  {
   "cell_type": "markdown",
   "metadata": {},
   "source": [
    "Definimos algunas variables globales para el código del juego de la vida de Conway y también del código encargado de la paralelización"
   ]
  },
  {
   "cell_type": "code",
   "execution_count": 107,
   "metadata": {},
   "outputs": [],
   "source": [
    "MAX_UNITS = 4 #Numero de engines disponibles\n",
    "MAX_X = 16 #Dimensión en X de la grilla\n",
    "MAX_Y = 16 #Dimensión en Y de la grilla total\n",
    "SUBMAX_X = int(MAX_X/(MAX_UNITS/2)) #Dimensión en X de la subgrilla\n",
    "SUBMAX_Y = int(MAX_Y/(MAX_UNITS/2)) #Dimensión en Y de la subgrilla"
   ]
  },
  {
   "cell_type": "markdown",
   "metadata": {},
   "source": [
    "Se definen las respectivas funciones que se encargan de calcular el juego de la vida de Conway"
   ]
  },
  {
   "cell_type": "code",
   "execution_count": 109,
   "metadata": {},
   "outputs": [
    {
     "ename": "ValueError",
     "evalue": "cannot reshape array of size 16 into shape (16,16)",
     "output_type": "error",
     "traceback": [
      "\u001b[0;31m---------------------------------------------------------------------------\u001b[0m",
      "\u001b[0;31mValueError\u001b[0m                                Traceback (most recent call last)",
      "Cell \u001b[0;32mIn[109], line 90\u001b[0m\n\u001b[1;32m     87\u001b[0m     \u001b[38;5;28;01mreturn\u001b[39;00m conway(vector_out, vector_in, x, y)\n\u001b[1;32m     89\u001b[0m fig \u001b[38;5;241m=\u001b[39m plt\u001b[38;5;241m.\u001b[39mfigure()\n\u001b[0;32m---> 90\u001b[0m plt\u001b[38;5;241m.\u001b[39mimshow(\u001b[43mvector\u001b[49m\u001b[38;5;241;43m.\u001b[39;49m\u001b[43mreshape\u001b[49m\u001b[43m(\u001b[49m\u001b[43mMAX_X\u001b[49m\u001b[43m,\u001b[49m\u001b[43mMAX_Y\u001b[49m\u001b[43m)\u001b[49m)\n\u001b[1;32m     91\u001b[0m plt\u001b[38;5;241m.\u001b[39mshow()\n\u001b[1;32m     92\u001b[0m \u001b[38;5;28mprint\u001b[39m(\u001b[38;5;28mlen\u001b[39m(vector_out))\n",
      "\u001b[0;31mValueError\u001b[0m: cannot reshape array of size 16 into shape (16,16)"
     ]
    },
    {
     "data": {
      "text/plain": [
       "<Figure size 640x480 with 0 Axes>"
      ]
     },
     "metadata": {},
     "output_type": "display_data"
    }
   ],
   "source": [
    "#\n",
    "# Funciones auxiliares usadas para estimar los vecinos de una celda y\n",
    "# garantizar que los valores del borde no se vayan a sobrepasar\n",
    "#\n",
    "\n",
    "def posx(x, max_x = MAX_X):\n",
    "  return (x + max_x) % max_x\n",
    "\n",
    "def posy(y, max_y = MAX_Y):\n",
    "  return (y + max_y) % max_y\n",
    "\n",
    "def indice(x,y, max_y = MAX_Y):\n",
    "  return posx(x) * max_y + posy(y)\n",
    "\n",
    "def subposx(x, max_x = SUBMAX_X):\n",
    "  return (x + max_x) % max_x\n",
    "\n",
    "def subposy(y, max_y = SUBMAX_Y):\n",
    "  return (y + max_y) % max_y\n",
    "\n",
    "def subindice(x,y, max_y = SUBMAX_Y):\n",
    "  return posx(x) * max_y + posy(y)\n",
    "\n",
    "#\n",
    "# Esta funcion se encarga de contar los 8 vecinos de una celda cuales están\n",
    "# vivos (valor a '1') o cuantos están muertos (valor a '0')\n",
    "#\n",
    "#                 |                |\n",
    "#  (X - 1, Y - 1) | (  X  , Y - 1) | (X + 1, Y - 1)\n",
    "#                 |                |\n",
    "# --------------------------------------------------\n",
    "#                 |                |\n",
    "#  (X - 1,   Y  ) | (  X  ,   Y  ) | (X + 1,   Y  )\n",
    "#                 |                |\n",
    "# --------------------------------------------------\n",
    "#                 |                |\n",
    "#  (X - 1, Y + 1) | (  X  , Y + 1) | (X + 1, Y + 1)\n",
    "#\n",
    "\n",
    "def vecinos(x,y,vector):\n",
    "  return vector[ indice(x - 1, y - 1) ] + vector[ indice(x - 1, y) ] + vector[ indice(x - 1, y + 1) ] \\\n",
    "  + vector[ indice(x, y - 1) ] + vector[ indice(x, y + 1) ] \\\n",
    "  + vector[ indice(x + 1, y - 1) ] + vector[ indice(x + 1, y) ] + vector[ indice(x + 1, y + 1) ]\n",
    "\n",
    "def imprimir_vecinos(x,y):\n",
    "    print(f\"La posicion ({x},{y}) paso de {vector[indice(x,y)]} a {vector_out[indice(x,y)]}\")\n",
    "    print(\"Sus vecinos eran\")\n",
    "    print(f\"{vector[ indice(x - 1, y - 1) ]}, {vector[ indice(x - 1, y) ]}, {vector[ indice(x - 1, y + 1)]}\")\n",
    "    print(f\"{vector[ indice(x, y - 1) ]}, X, {vector[ indice(x, y + 1) ]}\")\n",
    "    print(f\"{vector[ indice(x + 1, y - 1) ]}, {vector[ indice(x + 1, y) ]}, {vector[ indice(x + 1, y + 1) ]}\")\n",
    "    \n",
    "#\n",
    "# Esta función se encarga de recorrer toda las celdas y estimar cuales de ellas \n",
    "# vivirán y cuales no \n",
    "#\n",
    "def conway(vector_out, vector_in, stride_x, stride_y):\n",
    "  for i in range(stride_x,SUBMAX_X+stride_x):\n",
    "    for j in range(stride_y,SUBMAX_Y+stride_y):\n",
    "      print(f\"Estoy en el x = {j} y en el y = {i}\")\n",
    "      n = vecinos(i,j, vector_in)\n",
    "      print(f\"Tengo esta cantidad de vecinos = {n}\")\n",
    "      valor = 0\n",
    "      if vector_in[ indice(i,j) ] == 1 and (n == 2 or n == 3):\n",
    "        valor = 1\n",
    "      elif vector_in[ indice(i,j) ] == 0 and n == 3:\n",
    "        valor = 1\n",
    "        \n",
    "      if (i > 7):\n",
    "        i1 = i-stride_x\n",
    "      else:\n",
    "        i1 = i\n",
    "\n",
    "      if (j > 7):\n",
    "        j1 = j-stride_y\n",
    "      else:\n",
    "        j1 = j\n",
    "\n",
    "      print(f\"Este fue mi valor = {valor}\")\n",
    "\n",
    "      print(f\"Pero para el vector_out... x = {i1} y en el y = {j1}\")\n",
    "      print()\n",
    "      vector_out[ subindice(i1,j1) ] = valor\n",
    "  return vector_out\n",
    "\n",
    "def conway_wrapper(args):\n",
    "    vector_out, vector_in, x, y = args\n",
    "    return conway(vector_out, vector_in, x, y)\n",
    "    \n",
    "fig = plt.figure()\n",
    "plt.imshow(vector.reshape(MAX_X,MAX_Y))\n",
    "plt.show()\n",
    "print(len(vector_out))\n",
    "print(len(vector))\n",
    "res = conway_wrapper((vector_out, vector, 0,8))\n",
    "fig = plt.figure()\n",
    "plt.imshow(res.reshape(SUBMAX_X,SUBMAX_Y))\n",
    "plt.show()"
   ]
  },
  {
   "cell_type": "markdown",
   "metadata": {},
   "source": [
    "## Hora de paralelizar"
   ]
  },
  {
   "cell_type": "markdown",
   "metadata": {},
   "source": [
    "Se conecta con el respectivo *Client* paralelo"
   ]
  },
  {
   "cell_type": "code",
   "execution_count": 110,
   "metadata": {},
   "outputs": [],
   "source": [
    "rc = parallel.Client()\n",
    "all_engines = rc[:]\n",
    "view = rc.load_balanced_view()"
   ]
  },
  {
   "cell_type": "markdown",
   "metadata": {},
   "source": [
    "Se proceden a definir los respectivos *namespaces* en cada uno de los *engines* con imports"
   ]
  },
  {
   "cell_type": "code",
   "execution_count": 111,
   "metadata": {},
   "outputs": [],
   "source": [
    "%%px\n",
    "import matplotlib\n",
    "matplotlib.use('Agg')\n",
    "import matplotlib.pyplot as plt\n",
    "\n",
    "import numpy as np"
   ]
  },
  {
   "cell_type": "markdown",
   "metadata": {},
   "source": [
    "Procedemos a inicializar cada una de las funciones definidas anteriormente en cada uno de los *engines*"
   ]
  },
  {
   "cell_type": "code",
   "execution_count": 112,
   "metadata": {},
   "outputs": [
    {
     "name": "stdout",
     "output_type": "stream",
     "text": [
      "Terminé\n"
     ]
    }
   ],
   "source": [
    "all_engines.push(dict(\n",
    "    posx=posx,\n",
    "    posy=posy,\n",
    "    indice=indice,\n",
    "    subposx=subposx,\n",
    "    subposy=subposy,\n",
    "    subindice=subindice,\n",
    "    vecinos=vecinos,\n",
    "    imprimir_vecinos=imprimir_vecinos, #Creo que no es necesario\n",
    "    conway=conway,\n",
    "    SUBMAX_X=SUBMAX_X,\n",
    "    SUBMAX_Y=SUBMAX_Y,\n",
    "))\n",
    "print(\"Terminé\")"
   ]
  },
  {
   "cell_type": "markdown",
   "metadata": {},
   "source": [
    "Ahora es posible iterar sobre cada uno de los sub-espacios disponibles para calcular el juego de la vida de Conway"
   ]
  },
  {
   "cell_type": "code",
   "execution_count": 113,
   "metadata": {},
   "outputs": [
    {
     "data": {
      "image/png": "[encoded data removed]",
      "text/plain": [
       "<Figure size 640x480 with 1 Axes>"
      ]
     },
     "metadata": {},
     "output_type": "display_data"
    }
   ],
   "source": [
    "vector = np.int32( np.random.choice([1,0], MAX_X * MAX_Y, p = [0.50, 0.50]) )\n",
    "#vector = np.int32(np.array([0, 0, 0, 0, 0, 1, 1, 0, 0, 1, 1, 0, 0, 0, 0, 0]))\n",
    "fig = plt.figure()\n",
    "plt.imshow(vector.reshape(MAX_X,MAX_Y))\n",
    "plt.show()"
   ]
  },
  {
   "cell_type": "code",
   "execution_count": 114,
   "metadata": {},
   "outputs": [
    {
     "name": "stdout",
     "output_type": "stream",
     "text": [
      "stride = 8\n",
      "Haciendo prueba que el paso esté bien // x = 0 y = 0\n",
      "Haciendo prueba que el paso esté bien // x = 8 y = 0\n",
      "Haciendo prueba que el paso esté bien // x = 0 y = 8\n",
      "Haciendo prueba que el paso esté bien // x = 8 y = 8\n",
      "Medide de un resultado de un motor = 64\n",
      "4\n",
      "64\n"
     ]
    },
    {
     "data": {
      "image/png": "[encoded data removed]",
      "text/plain": [
       "<Figure size 640x480 with 1 Axes>"
      ]
     },
     "metadata": {},
     "output_type": "display_data"
    }
   ],
   "source": [
    "# print(f\"MAX_X = {MAX_X}\")\n",
    "\n",
    "stride = SUBMAX_X\n",
    "print(f\"stride = {stride}\")\n",
    "count = 0\n",
    "\n",
    "vector_out = np.empty(stride * stride, dtype = np.int32)\n",
    "\n",
    "# Creación de una lista de listas para los argumentos\n",
    "arguments_list = []\n",
    "for y in range(0, MAX_X, SUBMAX_X):\n",
    "  for x in range(0, MAX_Y, SUBMAX_Y):\n",
    "    arguments_list.append((vector_out, vector, x, y))\n",
    "\n",
    "for item in arguments_list:\n",
    "  print(f\"Haciendo prueba que el paso esté bien // x = {item[2]} y = {item[3]}\")\n",
    "\n",
    "# Usando el load_balanced_view para distribuir el trabajo\n",
    "amr = view.map_async(conway_wrapper, arguments_list, ordered=True)\n",
    "\n",
    "# Esperar por los resultados\n",
    "results = amr.get()\n",
    "\n",
    "print(f\"Medide de un resultado de un motor = {len(results[0])}\")\n",
    "\n",
    "# Convertir de numpy array a python array\n",
    "results = [result.tolist() for result in results]\n",
    "print(len(results))\n",
    "print(len(results[0]))\n",
    "\n",
    "#Concatenar todos los resultados obtenidos\n",
    "finalResult = []\n",
    "for result in results:\n",
    "  finalResult += result\n",
    "\n",
    "finalResult = np.array(finalResult)\n",
    "\n",
    "fig = plt.figure()\n",
    "plt.imshow(finalResult.reshape(MAX_X,MAX_Y))\n",
    "plt.show()"
   ]
  },
  {
   "cell_type": "code",
   "execution_count": null,
   "metadata": {},
   "outputs": [],
   "source": []
  }
 ],
 "metadata": {
  "colab": {
   "provenance": [],
   "toc_visible": true
  },
  "kernelspec": {
   "display_name": "Python 3 (ipykernel)",
   "language": "python",
   "name": "python3"
  },
  "language_info": {
   "codemirror_mode": {
    "name": "ipython",
    "version": 3
   },
   "file_extension": ".py",
   "mimetype": "text/x-python",
   "name": "python",
   "nbconvert_exporter": "python",
   "pygments_lexer": "ipython3",
   "version": "3.11.6"
  }
 },
 "nbformat": 4,
 "nbformat_minor": 4
}
